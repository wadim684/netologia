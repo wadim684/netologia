{
 "cells": [
  {
   "cell_type": "markdown",
   "metadata": {},
   "source": [
    "# Задание к лекции Работа с файловой системой"
   ]
  },
  {
   "cell_type": "markdown",
   "metadata": {},
   "source": [
    "#### Дана строчка sequence с последовательностью натуральных чисел, разделенных пробелом. Посчитайте:\n",
    "1. Количество четных и нечетных чисел в этой строке\n",
    "2. Если четных больше, то укажите первое \"лишнее\" четное число\n",
    "3. Если нечетных больше, то укажите первое \"лишнее\" нечетное число"
   ]
  },
  {
   "cell_type": "code",
   "execution_count": 7,
   "metadata": {},
   "outputs": [],
   "source": [
    "sequence = '2 3 1 5 9 22 3 5'"
   ]
  },
  {
   "cell_type": "code",
   "execution_count": 48,
   "metadata": {},
   "outputs": [
    {
     "name": "stdout",
     "output_type": "stream",
     "text": [
      "6 - нечетных :: 2 - четных\n",
      "первое \"лишнее\" нечетное число - 5\n"
     ]
    }
   ],
   "source": [
    "dic_e = {}\n",
    "dic_o = {}\n",
    "k = 0\n",
    "\n",
    "for i in sequence.split():\n",
    "    if int(i) % 2:\n",
    "        dic_o[k]=i\n",
    "    else:\n",
    "        dic_e[k]=i\n",
    "    k +=1    \n",
    "print(f'{len(dic_o)} - нечетных :: {len(dic_e)} - четных')\n",
    "\n",
    "if len(dic_e) > len(dic_o):\n",
    "    print(f'первое \"лишнее\" четное число - {dic_e[len(dic_o)+1]}')\n",
    "elif len(dic_o) > len(dic_e):\n",
    "    print(f'первое \"лишнее\" нечетное число - {dic_o[len(dic_e)+1]}')\n",
    "    \n",
    "    "
   ]
  },
  {
   "cell_type": "markdown",
   "metadata": {},
   "source": [
    "Напишите функцию (или просто код), который возвращает список из первых N строк файла purchase_log.txt без записи всего содержимого файла в оперативную память."
   ]
  },
  {
   "cell_type": "code",
   "execution_count": 9,
   "metadata": {},
   "outputs": [
    {
     "data": {
      "text/plain": [
       "['{\"user_id\": \"user_id\", \"category\": \"category\"}',\n",
       " '{\"user_id\": \"1840e0b9d4\", \"category\": \"РџСЂРѕРґСѓРєС‚С‹\"}',\n",
       " '{\"user_id\": \"4e4f90fcfb\", \"category\": \"Р\\xadР»РµРєС‚СЂРѕРЅРёРєР°\"}',\n",
       " '{\"user_id\": \"afea8d72fc\", \"category\": \"Р\\xadР»РµРєС‚СЂРѕРЅРёРєР°\"}',\n",
       " '{\"user_id\": \"373a6055fe\", \"category\": \"Р‘С‹С‚РѕРІР°СЏ С‚РµС…РЅРёРєР°\"}']"
      ]
     },
     "execution_count": 9,
     "metadata": {},
     "output_type": "execute_result"
    }
   ],
   "source": [
    "#array = []\n",
    "#f = open('purchase_log.txt', 'r')\n",
    "#for i in range(5):\n",
    "#    array.append(f.readline().strip())\n",
    "#f.close()\n",
    "#array"
   ]
  },
  {
   "cell_type": "code",
   "execution_count": null,
   "metadata": {},
   "outputs": [],
   "source": []
  }
 ],
 "metadata": {
  "kernelspec": {
   "display_name": "Python 3",
   "language": "python",
   "name": "python3"
  },
  "language_info": {
   "codemirror_mode": {
    "name": "ipython",
    "version": 3
   },
   "file_extension": ".py",
   "mimetype": "text/x-python",
   "name": "python",
   "nbconvert_exporter": "python",
   "pygments_lexer": "ipython3",
   "version": "3.7.6"
  }
 },
 "nbformat": 4,
 "nbformat_minor": 4
}
