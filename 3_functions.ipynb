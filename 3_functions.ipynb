{
 "cells": [
  {
   "cell_type": "markdown",
   "metadata": {},
   "source": [
    "# Домашнее задание к лекции \"Функции\""
   ]
  },
  {
   "cell_type": "markdown",
   "metadata": {},
   "source": [
    "Пункт 1. Пользователь по команде \"p\" может узнать владельца документа по его номеру\n",
    "Пункт 2. Пользователь по команде \"s\" может по номеру документа узнать на какой полке он хранится"
   ]
  },
  {
   "cell_type": "code",
   "execution_count": 39,
   "metadata": {},
   "outputs": [],
   "source": [
    "documents = [\n",
    " {'type': 'passport', 'number': '2207 876234', 'name': 'Василий Гупкин'},\n",
    " {'type': 'invoice', 'number': '11-2', 'name': 'Геннадий Покемонов'},\n",
    " {'type': 'insurance', 'number': '10006', 'name': 'Аристарх Павлов'}\n",
    "    ]\n",
    "\n",
    "directories = {\n",
    " '1': ['2207 876234', '11-2'],\n",
    " '2': ['10006'],\n",
    " '3': []\n",
    "}\n"
   ]
  },
  {
   "cell_type": "code",
   "execution_count": 40,
   "metadata": {},
   "outputs": [],
   "source": [
    "def document_owner(nomer, documents):\n",
    "    for i in documents:\n",
    "        if i['number'] == nomer:\n",
    "            return i['name'] \n",
    "    return 'не найден в базе'\n",
    "        \n",
    "def document_share(nomer, documents):\n",
    "        for f, i in documents.items():\n",
    "            for n in i:\n",
    "                if n == nomer:\n",
    "                    return f      "
   ]
  },
  {
   "cell_type": "code",
   "execution_count": 41,
   "metadata": {},
   "outputs": [
    {
     "name": "stdout",
     "output_type": "stream",
     "text": [
      "Введите команду:\n",
      "s\n",
      "Введите номер документа:\n",
      "10006\n",
      "Полка хранения №: 2\n"
     ]
    }
   ],
   "source": [
    "var = ''\n",
    "while var != 'Q':\n",
    "    print('Введите команду:')\n",
    "    var = input().capitalize()\n",
    "    if var == 'P':\n",
    "        print('Введите номер документа:')\n",
    "        nomer = str(input())\n",
    "        print(f'Владелец документа: {document_owner(nomer, documents)}')\n",
    "        break\n",
    "    elif var == 'S':\n",
    "        print('Введите номер документа:')\n",
    "        nomer = str(input())\n",
    "        print(f'Полка хранения №: {document_share(nomer, directories)}')\n",
    "        break\n",
    "        "
   ]
  },
  {
   "cell_type": "code",
   "execution_count": null,
   "metadata": {},
   "outputs": [],
   "source": []
  }
 ],
 "metadata": {
  "kernelspec": {
   "display_name": "Python 3",
   "language": "python",
   "name": "python3"
  },
  "language_info": {
   "codemirror_mode": {
    "name": "ipython",
    "version": 3
   },
   "file_extension": ".py",
   "mimetype": "text/x-python",
   "name": "python",
   "nbconvert_exporter": "python",
   "pygments_lexer": "ipython3",
   "version": "3.7.6"
  }
 },
 "nbformat": 4,
 "nbformat_minor": 4
}
