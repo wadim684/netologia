{
 "cells": [
  {
   "cell_type": "markdown",
   "metadata": {},
   "source": [
    "# Домашнее задание к лекции \"Основы Python\""
   ]
  },
  {
   "cell_type": "markdown",
   "metadata": {},
   "source": [
    "## Задание 1\n",
    "\n",
    "Даны 2 переменных, в которых хранятся строки произвольной длины: phrase_1 и phrase_2.\n",
    "Напишите код, который проверяет какая из этих строк длиннее.\n"
   ]
  },
  {
   "cell_type": "code",
   "execution_count": null,
   "metadata": {},
   "outputs": [],
   "source": [
    "\n",
    "\n",
    "phrase_1 = 'Насколько проще было бы писать программы, если бы не заказчики'\n",
    "phrase_2 = '640Кб должно хватить для любых задач. Билл Гейтс (по легенде)'"
   ]
  },
  {
   "cell_type": "code",
   "execution_count": null,
   "metadata": {},
   "outputs": [],
   "source": [
    "print('Результат:')\n",
    "if len(phrase_1) < len(phrase_2):\n",
    "    print('Фраза 2 длиннее фразы 1')\n",
    "elif len(phrase_1) > len(phrase_2):\n",
    "        print('Фраза 1 длиннее фразы 2')"
   ]
  },
  {
   "cell_type": "code",
   "execution_count": null,
   "metadata": {},
   "outputs": [],
   "source": []
  },
  {
   "cell_type": "markdown",
   "metadata": {},
   "source": [
    "\n",
    "## Задание 2\n",
    "\n",
    "Дана переменная, в которой хранится четырехзначное число (год). Необходимо написать программу, которая выведет, является ли данный год високосным или обычным."
   ]
  },
  {
   "cell_type": "code",
   "execution_count": null,
   "metadata": {},
   "outputs": [],
   "source": [
    "def days_in_a_year(year):\n",
    "    if year %4 == 0:\n",
    "        print('Обычный год')\n",
    "    elif year % 100 != 0 or (year % 100 == 0 and year % 400 == 0):\n",
    "        print('Високосный год') "
   ]
  },
  {
   "cell_type": "code",
   "execution_count": null,
   "metadata": {},
   "outputs": [],
   "source": [
    "year = int(input())\n",
    "days_in_a_year(year)"
   ]
  },
  {
   "cell_type": "code",
   "execution_count": null,
   "metadata": {},
   "outputs": [],
   "source": []
  },
  {
   "cell_type": "markdown",
   "metadata": {},
   "source": [
    "\n",
    "## Задание 3\n",
    "\n",
    "Необходимо написать программу, которая будет запрашивать у пользователя месяц и дату рождения и выводить соответствующий знак зодиака."
   ]
  },
  {
   "cell_type": "code",
   "execution_count": 10,
   "metadata": {},
   "outputs": [],
   "source": [
    "def zodiak(month, day):\n",
    "    re = 'Ваш знак зодиака: ' \n",
    "    if month == ('апрель' and (0 < day < 20)) or (\n",
    "       month == 'май' and (0 < day < 14)):\n",
    "           print(re + 'Овен')\n",
    "    elif month == ('май' and (13 < day < 32)) or (\n",
    "         month == 'июнь' and (0 < day < 20)):\n",
    "             print(re + 'Телец')\n",
    "    elif month == ('июнь' and (19 < day < 31)) or (\n",
    "         month == 'июль' and (0 < day < 21)):\n",
    "             print(re + 'Близнецы')\n",
    "    elif month == ('июль' and (20 < day < 32)) or (\n",
    "         month == 'август' and (0 < day < 10)):\n",
    "             print(re + 'Рак')\n",
    "    elif month == ('август' and (9 < day < 32)) or (\n",
    "         month == 'сентябрь' and (0 < day < 16)):\n",
    "             print(re + 'Лев')\n",
    "    elif month == ('сентябрь' and (15 < day < 31)) or (\n",
    "         month == 'октябрь' and (0 < day < 31)):\n",
    "             print(re + 'Дева')\n",
    "    elif month == ('октябрь' and (30 < day < 32)) or (\n",
    "         month == 'ноябрь' and (0 < day < 23)):\n",
    "             print(re + 'Весы')\n",
    "    elif month == ('ноябрь' and (22 < day < 30)):\n",
    "             print(re + 'Скропион')\n",
    "    elif month == ('ноябрь' and (29 < day < 31)) or (\n",
    "         month == 'декабрь' and (0 < day < 18)):\n",
    "             print(re + 'Змееносец')\n",
    "    elif month == ('декабрь' and (17 < day < 32)) or (\n",
    "         month == 'январь' and (0 < day < 19)):\n",
    "             print(re + 'Стрелец')\n",
    "    elif month == ('январь' and (18 < day < 32)) or (\n",
    "         month == 'февраль' and (0 < day < 16)):\n",
    "             print(re + 'Козерог')\n",
    "    elif month == ('февраль' and (15 < day < 30)) or (\n",
    "         month == 'март' and (0 < day < 12)):\n",
    "             print(re + 'Водолей')\n",
    "    elif month == ('март' and (11 < day < 32)) or (\n",
    "         month == 'апрель' and (0 < day < 19)):\n",
    "             print(re + 'Рыбы')\n",
    "    else:\n",
    "        print('Ошибка ввода, попробуйте еще раз')"
   ]
  },
  {
   "cell_type": "code",
   "execution_count": 11,
   "metadata": {},
   "outputs": [
    {
     "name": "stdout",
     "output_type": "stream",
     "text": [
      "Введите день:\n",
      "99\n",
      "Введите месяц:\n",
      "май\n",
      "Ошибка ввода, попробуйте еще раз\n"
     ]
    }
   ],
   "source": [
    "print('Введите день:')\n",
    "d = int(input())\n",
    "print('Введите месяц:')\n",
    "m = str(input()).lower()\n",
    "zodiak(m, d)"
   ]
  },
  {
   "cell_type": "code",
   "execution_count": null,
   "metadata": {},
   "outputs": [],
   "source": []
  },
  {
   "cell_type": "markdown",
   "metadata": {},
   "source": [
    "\n",
    "## Задание 4\n",
    "\n",
    "Вам нужно написать программу для подбора упаковок по размерам товара. Размеры (ширина, длина, высота) хранятся в переменных (в сантиметрах):\n",
    "\n",
    "Используйте следующие правила:\n",
    "\n",
    "    если каждое из трех измерений менее или равно 15 сантиметрам, то выведите на экран \"Коробка №1\";\n",
    "    если хотя бы одно из измерений больше 15 сантиметров, но менее 50 сантиметров, то выводите \"Коробка №2\";\n",
    "    если длина товара больше 2 метров, то выводите \"Упаковка для лыж\";\n",
    "    во всех остальных случаях выводите \"Стандартная коробка №3\".\n"
   ]
  },
  {
   "cell_type": "code",
   "execution_count": 12,
   "metadata": {},
   "outputs": [],
   "source": [
    "def selection_of_packaging(width, length, height):\n",
    "    if (height <= 15) and (width <= 15) and (length <= 15):\n",
    "        print(\"Коробка №1\")\n",
    "    elif (15 < height < 50) or (15 < width < 50) or (15 < length < 50):\n",
    "        print(\"Коробка №2\")\n",
    "    elif 200 < length:\n",
    "        print(\"Упаковка для лыж\")\n",
    "    else:\n",
    "        print(\"Стандартная коробка №3\")"
   ]
  },
  {
   "cell_type": "code",
   "execution_count": 14,
   "metadata": {},
   "outputs": [
    {
     "name": "stdout",
     "output_type": "stream",
     "text": [
      "Введите ширину:\n",
      "15\n",
      "Введите длину:\n",
      "15\n",
      "Введите высоту:\n",
      "15\n",
      "Коробка №1\n"
     ]
    }
   ],
   "source": [
    "print('Введите ширину:')\n",
    "width = int(input())\n",
    "print('Введите длину:')\n",
    "length = int(input())\n",
    "print('Введите высоту:')\n",
    "height = int(input())\n",
    "selection_of_packaging(width, length, height)"
   ]
  },
  {
   "cell_type": "code",
   "execution_count": null,
   "metadata": {},
   "outputs": [],
   "source": []
  }
 ],
 "metadata": {
  "kernelspec": {
   "display_name": "Python 3",
   "language": "python",
   "name": "python3"
  },
  "language_info": {
   "codemirror_mode": {
    "name": "ipython",
    "version": 3
   },
   "file_extension": ".py",
   "mimetype": "text/x-python",
   "name": "python",
   "nbconvert_exporter": "python",
   "pygments_lexer": "ipython3",
   "version": "3.8.8"
  }
 },
 "nbformat": 4,
 "nbformat_minor": 4
}
